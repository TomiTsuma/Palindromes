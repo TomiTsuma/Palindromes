{
 "cells": [
  {
   "cell_type": "code",
   "execution_count": 1,
   "metadata": {},
   "outputs": [],
   "source": [
    "def isPalindrome(word):\n",
    "    Palindrome = 4\n",
    "    similarity = []\n",
    "    length = int(len(word))\n",
    "    first = 0\n",
    "    second = (len(word) - 1)\n",
    "    for i in range(length):\n",
    "        if word[first] == word[second]:\n",
    "            similarity.append(1)\n",
    "        else:\n",
    "            similarity.append(0)\n",
    "        first+=1\n",
    "        second-=1\n",
    "    for i in similarity:\n",
    "        if i == 0:\n",
    "            Palindrome = 5\n",
    "        elif Palindrome == 5:\n",
    "            Palindrome = 5\n",
    "        else:\n",
    "            Palindrome = 4\n",
    "    \n",
    "    if Palindrome == 4:\n",
    "        print(word + \" is Palindrome\")\n",
    "    else:\n",
    "        print(word + \" is not Palindrome\")"
   ]
  },
  {
   "cell_type": "code",
   "execution_count": 9,
   "metadata": {},
   "outputs": [
    {
     "data": {
      "text/plain": [
       "'m'"
      ]
     },
     "execution_count": 9,
     "metadata": {},
     "output_type": "execute_result"
    }
   ],
   "source": [
    "word =\"adam\"\n",
    "len(word)\n",
    "word[3]"
   ]
  },
  {
   "cell_type": "code",
   "execution_count": 10,
   "metadata": {},
   "outputs": [
    {
     "name": "stdout",
     "output_type": "stream",
     "text": [
      "adam is not Palindrome\n"
     ]
    }
   ],
   "source": [
    "isPalindrome(\"adam\")"
   ]
  },
  {
   "cell_type": "code",
   "execution_count": null,
   "metadata": {},
   "outputs": [],
   "source": []
  }
 ],
 "metadata": {
  "kernelspec": {
   "display_name": "Python 3",
   "language": "python",
   "name": "python3"
  },
  "language_info": {
   "codemirror_mode": {
    "name": "ipython",
    "version": 3
   },
   "file_extension": ".py",
   "mimetype": "text/x-python",
   "name": "python",
   "nbconvert_exporter": "python",
   "pygments_lexer": "ipython3",
   "version": "3.7.2"
  }
 },
 "nbformat": 4,
 "nbformat_minor": 2
}
